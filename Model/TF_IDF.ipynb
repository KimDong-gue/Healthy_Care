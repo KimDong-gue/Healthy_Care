{
  "nbformat": 4,
  "nbformat_minor": 0,
  "metadata": {
    "colab": {
      "provenance": [],
      "gpuType": "T4"
    },
    "kernelspec": {
      "name": "python3",
      "display_name": "Python 3"
    },
    "language_info": {
      "name": "python"
    },
    "accelerator": "GPU"
  },
  "cells": [
    {
      "cell_type": "code",
      "source": [
        "!pip install googletrans==4.0.0rc1"
      ],
      "metadata": {
        "id": "mo4dpfp_wIRA"
      },
      "execution_count": null,
      "outputs": []
    },
    {
      "cell_type": "code",
      "source": [
        "!pip install konlpy"
      ],
      "metadata": {
        "id": "pn6kcQepPad6"
      },
      "execution_count": null,
      "outputs": []
    },
    {
      "cell_type": "code",
      "source": [
        "!pip install Okt"
      ],
      "metadata": {
        "id": "CC2UctcePPAd"
      },
      "execution_count": null,
      "outputs": []
    },
    {
      "cell_type": "code",
      "source": [
        "import pandas as pd"
      ],
      "metadata": {
        "id": "HITInbJzFYle"
      },
      "execution_count": 5,
      "outputs": []
    },
    {
      "cell_type": "code",
      "source": [
        "import os\n",
        "import re  # 정규 표현식을 사용하기 위해 추가\n",
        "import pandas as pd\n",
        "from sklearn.feature_extraction.text import TfidfVectorizer\n",
        "from sklearn.metrics.pairwise import cosine_similarity\n",
        "from konlpy.tag import Okt\n",
        "\n",
        "# 데이터 파일 디렉토리 경로 설정\n",
        "data_dir = '/content/Symptom'\n",
        "\n",
        "# 데이터 파일 이름 리스트\n",
        "data_file_names = [\n",
        "    \"combined_cold.csv\",\n",
        "    \"combined_eyes.csv\",\n",
        "    \"combined_stomach.csv\"\n",
        "]\n",
        "\n",
        "file_cold = \"combined_cold.csv\",\n",
        "file_eyes = \"combined_eyes.csv\"\n",
        "file_stomach= \"combined_stomach.csv\"\n",
        "\n",
        "# 데이터 파일 변수와 진단 임계값 딕셔너리 설정\n",
        "data_files = {\n",
        "    '감기': file_cold,\n",
        "    '위염': file_stomach,\n",
        "    '결막염': file_eyes,\n",
        "}\n",
        "\n",
        "thresholds = {\n",
        "    '감기': 0.5,\n",
        "    '위염': 0.5,\n",
        "    '결막염': 0.5,\n",
        "}\n",
        "\n",
        "# 데이터 파일의 전체 경로 생성\n",
        "data_file_paths = [os.path.join(data_dir, filename) for filename in data_file_names]\n",
        "\n",
        "# 진단 결과 딕셔너리 초기화\n",
        "diagnosis_results = {}\n",
        "\n",
        "# 입력 증상 텍스트 (사용자로부터 입력을 받거나 직접 설정)\n",
        "input_symptom = '위궤양 증상'  # 감기 관련 증상을 입력하세요.\n",
        "\n",
        "# 진단 함수 정의\n",
        "def preprocess_text(text):\n",
        "    # 한글과 공백을 제외한 모든 문자 제거\n",
        "    text = re.sub('[^가-힣ㄱ-ㅎㅏ-ㅣa-zA-Z\\s]', '', text)\n",
        "\n",
        "    # 불용어 처리 및 형태소 분석\n",
        "    okt = Okt()\n",
        "    words = okt.pos(text, stem=True)\n",
        "    words = [word for word, pos in words if pos in ['Noun', 'Adjective']]\n",
        "\n",
        "    # 공백으로 구분된 단어들을 다시 결합\n",
        "    text = ' '.join(words)\n",
        "\n",
        "    return text\n",
        "\n",
        "def preprocess_file(file_path):\n",
        "    # 파일 읽어오기\n",
        "    df = pd.read_csv(file_path, encoding=\"utf-8\")\n",
        "\n",
        "    # 텍스트 데이터 전처리\n",
        "    df['combined_text'] = df['Answer'] + df['Question']\n",
        "    df['combined_text'] = df['combined_text'].apply(preprocess_text)\n",
        "\n",
        "    return df\n",
        "\n",
        "def diagnose_symptom(input_symptom, df, threshold):\n",
        "    # 입력 증상 전처리\n",
        "    input_symptom = preprocess_text(input_symptom)\n",
        "\n",
        "    # TF-IDF 벡터화\n",
        "    tfidf_vectorizer = TfidfVectorizer()\n",
        "    tfidf_matrix = tfidf_vectorizer.fit_transform(df['combined_text'])\n",
        "\n",
        "    # 입력 증상과 리뷰 간의 코사인 유사도 계산\n",
        "    similarities = cosine_similarity(tfidf_vectorizer.transform([input_symptom]), tfidf_matrix)\n",
        "\n",
        "    # 가장 높은 유사도와 관련된 진단 찾기\n",
        "    max_similarity = similarities.max()\n",
        "    matched_diagnosis = None\n",
        "\n",
        "    if max_similarity >= threshold:\n",
        "        matched_diagnosis = df.loc[similarities.argmax(), 'Question']\n",
        "\n",
        "    return matched_diagnosis if matched_diagnosis else \"진단을 확인할 수 없습니다.\"\n",
        "\n",
        "# 진단 수행 및 결과 저장\n",
        "for data_file_path in data_file_paths:\n",
        "    diagnosis_name = os.path.splitext(os.path.basename(data_file_path))[0]\n",
        "    threshold = thresholds.get(diagnosis_name, 0.5)\n",
        "    df = preprocess_file(data_file_path)\n",
        "    matched_diagnosis = diagnose_symptom(input_symptom, df, threshold)\n",
        "    diagnosis_results[diagnosis_name] = matched_diagnosis\n",
        "\n",
        "# 진단 결과 출력\n",
        "for diagnosis, result in diagnosis_results.items():\n",
        "    print(f\"진단 결과 ({diagnosis}): {result}\")\n"
      ],
      "metadata": {
        "colab": {
          "base_uri": "https://localhost:8080/"
        },
        "id": "GCRuyFFEb8j_",
        "outputId": "66ca4520-476d-427a-ae22-253806c54136"
      },
      "execution_count": 11,
      "outputs": [
        {
          "output_type": "stream",
          "name": "stdout",
          "text": [
            "진단 결과 (combined_cold): 진단을 확인할 수 없습니다.\n",
            "진단 결과 (combined_eyes): 진단을 확인할 수 없습니다.\n",
            "진단 결과 (combined_stomach): 소아 <b>위염</b> 위궤양\n"
          ]
        }
      ]
    },
    {
      "cell_type": "code",
      "source": [
        "import os\n",
        "import re  # 정규 표현식을 사용하기 위해 추가\n",
        "import pandas as pd\n",
        "from sklearn.feature_extraction.text import TfidfVectorizer\n",
        "from sklearn.metrics.pairwise import cosine_similarity\n",
        "from konlpy.tag import Okt\n",
        "\n",
        "# 데이터 파일 디렉토리 경로 설정\n",
        "data_dir = '/content/Symptom'\n",
        "\n",
        "# 데이터 파일 이름 리스트\n",
        "data_file_names = [\n",
        "    \"combined_cold.csv\",\n",
        "    \"combined_eyes.csv\",\n",
        "    \"combined_stomach.csv\"\n",
        "]\n",
        "\n",
        "file_cold = \"combined_cold.csv\",\n",
        "file_eyes = \"combined_eyes.csv\"\n",
        "file_stomach= \"combined_stomach.csv\"\n",
        "\n",
        "# 데이터 파일 변수와 진단 임계값 딕셔너리 설정\n",
        "data_files = {\n",
        "    '감기': file_cold,\n",
        "    '위염': file_stomach,\n",
        "    '결막염': file_eyes,\n",
        "}\n",
        "\n",
        "thresholds = {\n",
        "    '감기': 0.5,\n",
        "    '위염': 0.5,\n",
        "    '결막염': 0.5,\n",
        "}\n",
        "\n",
        "# 데이터 파일의 전체 경로 생성\n",
        "data_file_paths = [os.path.join(data_dir, filename) for filename in data_file_names]\n",
        "\n",
        "# 진단 결과 딕셔너리 초기화\n",
        "diagnosis_results = {}\n",
        "\n",
        "# 입력 증상 텍스트 (사용자로부터 입력을 받거나 직접 설정)\n",
        "input_symptom = '기침, 가래 , 콧물 증상'  # 감기 관련 증상을 입력하세요.\n",
        "\n",
        "# 진단 함수 정의\n",
        "def preprocess_text(text):\n",
        "    # 한글과 공백을 제외한 모든 문자 제거\n",
        "    text = re.sub('[^가-힣ㄱ-ㅎㅏ-ㅣa-zA-Z\\s]', '', text)\n",
        "\n",
        "    # 불용어 처리 및 형태소 분석\n",
        "    okt = Okt()\n",
        "    words = okt.pos(text, stem=True)\n",
        "    words = [word for word, pos in words if pos in ['Noun', 'Adjective']]\n",
        "\n",
        "    # 공백으로 구분된 단어들을 다시 결합\n",
        "    text = ' '.join(words)\n",
        "\n",
        "    return text\n",
        "\n",
        "def preprocess_file(file_path):\n",
        "    # 파일 읽어오기\n",
        "    df = pd.read_csv(file_path, encoding=\"utf-8\")\n",
        "\n",
        "    # 텍스트 데이터 전처리\n",
        "    df['combined_text'] = df['Answer'] + df['Question']\n",
        "    df['combined_text'] = df['combined_text'].apply(preprocess_text)\n",
        "\n",
        "    return df\n",
        "\n",
        "def diagnose_symptom(input_symptom, df, threshold):\n",
        "    # 입력 증상 전처리\n",
        "    input_symptom = preprocess_text(input_symptom)\n",
        "\n",
        "    # TF-IDF 벡터화\n",
        "    tfidf_vectorizer = TfidfVectorizer()\n",
        "    tfidf_matrix = tfidf_vectorizer.fit_transform(df['combined_text'])\n",
        "\n",
        "    # 입력 증상과 리뷰 간의 코사인 유사도 계산\n",
        "    similarities = cosine_similarity(tfidf_vectorizer.transform([input_symptom]), tfidf_matrix)\n",
        "\n",
        "    # 가장 높은 유사도와 관련된 진단 찾기\n",
        "    max_similarity = similarities.max()\n",
        "    matched_diagnosis = None\n",
        "\n",
        "    if max_similarity >= threshold:\n",
        "        matched_diagnosis = df.loc[similarities.argmax(), 'Question']\n",
        "\n",
        "    return matched_diagnosis if matched_diagnosis else \"진단을 확인할 수 없습니다.\"\n",
        "\n",
        "# 진단 수행 및 결과 저장\n",
        "for data_file_path in data_file_paths:\n",
        "    diagnosis_name = os.path.splitext(os.path.basename(data_file_path))[0]\n",
        "    threshold = thresholds.get(diagnosis_name, 0.5)\n",
        "    df = preprocess_file(data_file_path)\n",
        "    matched_diagnosis = diagnose_symptom(input_symptom, df, threshold)\n",
        "    diagnosis_results[diagnosis_name] = matched_diagnosis\n",
        "\n",
        "# 진단 결과 출력\n",
        "for diagnosis, result in diagnosis_results.items():\n",
        "    print(f\"진단 결과 ({diagnosis}): {result}\")\n"
      ],
      "metadata": {
        "colab": {
          "base_uri": "https://localhost:8080/"
        },
        "id": "2euYqY1llJtr",
        "outputId": "a61b8bca-efdc-420f-bc51-23d029829dd7"
      },
      "execution_count": 18,
      "outputs": [
        {
          "output_type": "stream",
          "name": "stdout",
          "text": [
            "진단 결과 (combined_cold): <b>감기 증상</b>\n",
            "진단 결과 (combined_eyes): 진단을 확인할 수 없습니다.\n",
            "진단 결과 (combined_stomach): 진단을 확인할 수 없습니다.\n"
          ]
        }
      ]
    }
  ]
}